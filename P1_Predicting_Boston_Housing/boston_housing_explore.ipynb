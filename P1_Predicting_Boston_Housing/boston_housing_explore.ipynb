{
 "cells": [
  {
   "cell_type": "markdown",
   "metadata": {},
   "source": [
    " \"\"\"Analyze the Boston housing data. Evaluate and validate the\n",
    "    performanance of a Decision Tree regressor on the housing data.\n",
    "    Fine tune the model to make prediction on unseen data.\"\"\""
   ]
  },
  {
   "cell_type": "markdown",
   "metadata": {},
   "source": [
    "\"\"\"Load the Boston dataset and examine its target (label) distribution.\"\"\""
   ]
  },
  {
   "cell_type": "code",
   "execution_count": 1,
   "metadata": {
    "collapsed": true
   },
   "outputs": [],
   "source": [
    "# Load libraries\n",
    "import numpy as np\n",
    "import pylab as pl\n",
    "from sklearn import datasets\n",
    "from sklearn.tree import DecisionTreeRegressor"
   ]
  },
  {
   "cell_type": "code",
   "execution_count": 44,
   "metadata": {
    "collapsed": true
   },
   "outputs": [],
   "source": [
    "#ADD EXTRA LIBRARIES HERE \n",
    "from sklearn import cross_validation\n",
    "\n",
    "from sklearn.metrics import explained_variance_score\n",
    "from sklearn.metrics import mean_absolute_error\n",
    "from sklearn.metrics import mean_squared_error\n",
    "from sklearn.metrics import median_absolute_error\n",
    "from sklearn.metrics import r2_score\n",
    "from sklearn.metrics import make_scorer\n",
    "\n",
    "from sklearn.grid_search import GridSearchCV"
   ]
  },
  {
   "cell_type": "code",
   "execution_count": 18,
   "metadata": {
    "collapsed": false
   },
   "outputs": [],
   "source": [
    "boston = datasets.load_boston()"
   ]
  },
  {
   "cell_type": "code",
   "execution_count": null,
   "metadata": {
    "collapsed": true
   },
   "outputs": [],
   "source": [
    "city_data = load_data()"
   ]
  },
  {
   "cell_type": "code",
   "execution_count": 25,
   "metadata": {
    "collapsed": false
   },
   "outputs": [
    {
     "name": "stdout",
     "output_type": "stream",
     "text": [
      "['data', 'feature_names', 'DESCR', 'target']\n"
     ]
    }
   ],
   "source": [
    "print city_data.keys()"
   ]
  },
  {
   "cell_type": "code",
   "execution_count": 26,
   "metadata": {
    "collapsed": false
   },
   "outputs": [
    {
     "name": "stdout",
     "output_type": "stream",
     "text": [
      "Boston House Prices dataset\n",
      "\n",
      "Notes\n",
      "------\n",
      "Data Set Characteristics:  \n",
      "\n",
      "    :Number of Instances: 506 \n",
      "\n",
      "    :Number of Attributes: 13 numeric/categorical predictive\n",
      "    \n",
      "    :Median Value (attribute 14) is usually the target\n",
      "\n",
      "    :Attribute Information (in order):\n",
      "        - CRIM     per capita crime rate by town\n",
      "        - ZN       proportion of residential land zoned for lots over 25,000 sq.ft.\n",
      "        - INDUS    proportion of non-retail business acres per town\n",
      "        - CHAS     Charles River dummy variable (= 1 if tract bounds river; 0 otherwise)\n",
      "        - NOX      nitric oxides concentration (parts per 10 million)\n",
      "        - RM       average number of rooms per dwelling\n",
      "        - AGE      proportion of owner-occupied units built prior to 1940\n",
      "        - DIS      weighted distances to five Boston employment centres\n",
      "        - RAD      index of accessibility to radial highways\n",
      "        - TAX      full-value property-tax rate per $10,000\n",
      "        - PTRATIO  pupil-teacher ratio by town\n",
      "        - B        1000(Bk - 0.63)^2 where Bk is the proportion of blacks by town\n",
      "        - LSTAT    % lower status of the population\n",
      "        - MEDV     Median value of owner-occupied homes in $1000's\n",
      "\n",
      "    :Missing Attribute Values: None\n",
      "\n",
      "    :Creator: Harrison, D. and Rubinfeld, D.L.\n",
      "\n",
      "This is a copy of UCI ML housing dataset.\n",
      "http://archive.ics.uci.edu/ml/datasets/Housing\n",
      "\n",
      "\n",
      "This dataset was taken from the StatLib library which is maintained at Carnegie Mellon University.\n",
      "\n",
      "The Boston house-price data of Harrison, D. and Rubinfeld, D.L. 'Hedonic\n",
      "prices and the demand for clean air', J. Environ. Economics & Management,\n",
      "vol.5, 81-102, 1978.   Used in Belsley, Kuh & Welsch, 'Regression diagnostics\n",
      "...', Wiley, 1980.   N.B. Various transformations are used in the table on\n",
      "pages 244-261 of the latter.\n",
      "\n",
      "The Boston house-price data has been used in many machine learning papers that address regression\n",
      "problems.   \n",
      "     \n",
      "**References**\n",
      "\n",
      "   - Belsley, Kuh & Welsch, 'Regression diagnostics: Identifying Influential Data and Sources of Collinearity', Wiley, 1980. 244-261.\n",
      "   - Quinlan,R. (1993). Combining Instance-Based and Model-Based Learning. In Proceedings on the Tenth International Conference of Machine Learning, 236-243, University of Massachusetts, Amherst. Morgan Kaufmann.\n",
      "   - many more! (see http://archive.ics.uci.edu/ml/datasets/Housing)\n",
      "\n"
     ]
    }
   ],
   "source": [
    "print city_data.DESCR    "
   ]
  },
  {
   "cell_type": "markdown",
   "metadata": {},
   "source": [
    "\n",
    "def explore_city_data(city_data):\n",
    "Calculate and return the appropriate error performance metric."
   ]
  },
  {
   "cell_type": "code",
   "execution_count": 37,
   "metadata": {
    "collapsed": false
   },
   "outputs": [
    {
     "name": "stdout",
     "output_type": "stream",
     "text": [
      "Size of data (number of houses)? 506\n",
      "Number of features? 13\n",
      "Minimum price? 5.0\n",
      "Maximum price? 50.0\n",
      "Calculate mean price? 22.5328063241\n",
      "Calculate median price? 21.2\n",
      "Calculate standard deviation? 9.18801154528\n"
     ]
    }
   ],
   "source": [
    "# Get the labels and features from the housing data\n",
    "housing_prices = city_data.target\n",
    "housing_features = city_data.data\n",
    "\n",
    "###################################\n",
    "### Step 1. YOUR CODE GOES HERE ###\n",
    "###################################\n",
    "\n",
    "# Please calculate the following values using the Numpy library\n",
    "print 'Size of data (number of houses)?',  len(city_data.data)\n",
    "print 'Number of features?', len(city_data.feature_names)\n",
    "print 'Minimum price?', np.min(housing_prices)\n",
    "print 'Maximum price?', np.max(housing_prices)\n",
    "print 'Calculate mean price?', np.mean(housing_prices)\n",
    "print 'Calculate median price?', np.median(housing_prices)\n",
    "print 'Calculate standard deviation?', np.std(housing_prices)"
   ]
  },
  {
   "cell_type": "markdown",
   "metadata": {},
   "source": [
    "\n",
    "def split_data(city_data):\n",
    "Randomly shuffle the sample set. Divide it into 70 percent training and 30 percent testing data.\n",
    "\n",
    "Training/Test dataset split\n",
    "    X_train, y_train, X_test, y_test = split_data(city_data)"
   ]
  },
  {
   "cell_type": "code",
   "execution_count": 48,
   "metadata": {
    "collapsed": false
   },
   "outputs": [],
   "source": [
    "# Get the features and labels from the Boston housing data\n",
    "X, y = city_data.data, city_data.target\n",
    "\n",
    "###################################\n",
    "### Step 3. YOUR CODE GOES HERE ###\n",
    "#http://scikit-learn.org/stable/modules/cross_validation.html\n",
    "    \n",
    "X_train, X_test, y_train, y_test = cross_validation.train_test_split(X, y, test_size=0.3, random_state=0)\n",
    "###################################\n",
    "\n",
    "#return X_train, y_train, X_test, y_test"
   ]
  },
  {
   "cell_type": "markdown",
   "metadata": {},
   "source": [
    "\n",
    "def performance_metric(label, prediction):\n",
    "Calculate and return the appropriate error performance metric."
   ]
  },
  {
   "cell_type": "code",
   "execution_count": 49,
   "metadata": {
    "collapsed": false
   },
   "outputs": [],
   "source": [
    "# http://scikit-learn.org/stable/modules/classes.html#sklearn-metrics-metrics\n",
    "###################################\n",
    "### Step 2. YOUR CODE GOES HERE ###\n",
    "def performance_metric(label, prediction):\n",
    "    evs = explained_variance_score(label, prediction)\n",
    "    mea = mean_absolute_error(label, prediction)\n",
    "    mse = mean_squared_error(label, prediction)\n",
    "    mae = median_absolute_error(label, prediction)\n",
    "    r2  = r2_score(label, prediction)\n",
    "\n",
    "\n",
    "    return evs, mea, mse, mae, r2\n",
    "###################################"
   ]
  },
  {
   "cell_type": "markdown",
   "metadata": {},
   "source": [
    "\n",
    "def learning_curve(depth, X_train, y_train, X_test, y_test):\n",
    "    \"\"\"Calculate the performance of the model after a set of training data.\"\"\""
   ]
  },
  {
   "cell_type": "code",
   "execution_count": 50,
   "metadata": {
    "collapsed": false
   },
   "outputs": [
    {
     "name": "stdout",
     "output_type": "stream",
     "text": [
      "Decision Tree with Max Depth: \n"
     ]
    },
    {
     "ename": "NameError",
     "evalue": "name 'depth' is not defined",
     "output_type": "error",
     "traceback": [
      "\u001b[1;31m---------------------------------------------------------------------------\u001b[0m",
      "\u001b[1;31mNameError\u001b[0m                                 Traceback (most recent call last)",
      "\u001b[1;32m<ipython-input-50-e3058c9bb40f>\u001b[0m in \u001b[0;36m<module>\u001b[1;34m()\u001b[0m\n\u001b[0;32m      5\u001b[0m \u001b[1;33m\u001b[0m\u001b[0m\n\u001b[0;32m      6\u001b[0m \u001b[1;32mprint\u001b[0m \u001b[1;34m\"Decision Tree with Max Depth: \"\u001b[0m\u001b[1;33m\u001b[0m\u001b[0m\n\u001b[1;32m----> 7\u001b[1;33m \u001b[1;32mprint\u001b[0m \u001b[0mdepth\u001b[0m\u001b[1;33m\u001b[0m\u001b[0m\n\u001b[0m\u001b[0;32m      8\u001b[0m \u001b[1;33m\u001b[0m\u001b[0m\n\u001b[0;32m      9\u001b[0m \u001b[1;32mfor\u001b[0m \u001b[0mi\u001b[0m\u001b[1;33m,\u001b[0m \u001b[0ms\u001b[0m \u001b[1;32min\u001b[0m \u001b[0menumerate\u001b[0m\u001b[1;33m(\u001b[0m\u001b[0msizes\u001b[0m\u001b[1;33m)\u001b[0m\u001b[1;33m:\u001b[0m\u001b[1;33m\u001b[0m\u001b[0m\n",
      "\u001b[1;31mNameError\u001b[0m: name 'depth' is not defined"
     ]
    }
   ],
   "source": [
    "# We will vary the training set size so that we have 50 different sizes\n",
    "sizes = np.linspace(1, len(X_train), 50)\n",
    "train_err = np.zeros(len(sizes))\n",
    "test_err = np.zeros(len(sizes))\n",
    "\n",
    "print \"Decision Tree with Max Depth: \"\n",
    "print depth\n",
    "\n",
    "for i, s in enumerate(sizes):\n",
    "\n",
    "    # Create and fit the decision tree regressor model\n",
    "    regressor = DecisionTreeRegressor(max_depth=depth)\n",
    "    regressor.fit(X_train[:s], y_train[:s])\n",
    "\n",
    "    # Find the performance on the training and testing set\n",
    "    train_err[i] = performance_metric(y_train[:s], regressor.predict(X_train[:s]))\n",
    "    test_err[i] = performance_metric(y_test, regressor.predict(X_test))\n",
    "\n",
    "\n",
    "# Plot learning curve graph\n",
    "learning_curve_graph(sizes, train_err, test_err)"
   ]
  },
  {
   "cell_type": "code",
   "execution_count": null,
   "metadata": {
    "collapsed": true
   },
   "outputs": [],
   "source": [
    "\n",
    "def learning_curve_graph(sizes, train_err, test_err):\n",
    "    \"\"\"Plot training and test error as a function of the training size.\"\"\"\n",
    "    \n",
    "     "
   ]
  },
  {
   "cell_type": "code",
   "execution_count": 8,
   "metadata": {
    "collapsed": true
   },
   "outputs": [],
   "source": [
    "#Learning Curve Graphs\n",
    "    max_depths = [1,2,3,4,5,6,7,8,9,10]\n",
    "    for max_depth in max_depths:\n",
    "        learning_curve(max_depth, X_train, y_train, X_test, y_test)\n",
    "\n",
    "        pl.figure()\n",
    "        pl.title('Decision Trees: Performance vs Training Size')\n",
    "        pl.plot(sizes, test_err, lw=2, label = 'test error')\n",
    "        pl.plot(sizes, train_err, lw=2, label = 'training error')\n",
    "        pl.legend()\n",
    "        pl.xlabel('Training Size')\n",
    "        pl.ylabel('Error')\n",
    "        pl.show()"
   ]
  },
  {
   "cell_type": "code",
   "execution_count": null,
   "metadata": {
    "collapsed": true
   },
   "outputs": [],
   "source": [
    "def model_complexity(X_train, y_train, X_test, y_test):\n",
    "    \"\"\"Calculate the performance of the model as model complexity increases.\"\"\"\n",
    "# Model Complexity Graph\n",
    "    model_complexity(X_train, y_train, X_test, y_test)"
   ]
  },
  {
   "cell_type": "code",
   "execution_count": 9,
   "metadata": {
    "collapsed": true
   },
   "outputs": [],
   "source": [
    "\n",
    "\n",
    "    \n",
    "print \"Model Complexity: \"\n",
    "\n",
    "# We will vary the depth of decision trees from 2 to 25\n",
    "max_depth = np.arange(1, 25)\n",
    "train_err = np.zeros(len(max_depth))\n",
    "test_err = np.zeros(len(max_depth))\n",
    "\n",
    "for i, d in enumerate(max_depth):\n",
    "    # Setup a Decision Tree Regressor so that it learns a tree with depth d\n",
    "    regressor = DecisionTreeRegressor(max_depth=d)\n",
    "\n",
    "    # Fit the learner to the training data\n",
    "    regressor.fit(X_train, y_train)\n",
    "\n",
    "    # Find the performance on the training set\n",
    "    train_err[i] = performance_metric(y_train, regressor.predict(X_train))\n",
    "\n",
    "    # Find the performance on the testing set\n",
    "    test_err[i] = performance_metric(y_test, regressor.predict(X_test))\n",
    "\n",
    "# Plot the model complexity graph\n",
    "model_complexity_graph(max_depth, train_err, test_err)\n"
   ]
  },
  {
   "cell_type": "markdown",
   "metadata": {},
   "source": [
    "\n",
    "def model_complexity_graph(max_depth, train_err, test_err):\n",
    "    \"\"\"Plot training and test error as a function of the depth of the decision tree learn.\"\"\""
   ]
  },
  {
   "cell_type": "code",
   "execution_count": 10,
   "metadata": {
    "collapsed": true
   },
   "outputs": [],
   "source": [
    "pl.figure()\n",
    "pl.title('Decision Trees: Performance vs Max Depth')\n",
    "pl.plot(max_depth, test_err, lw=2, label = 'test error')\n",
    "pl.plot(max_depth, train_err, lw=2, label = 'training error')\n",
    "pl.legend()\n",
    "pl.xlabel('Max Depth')\n",
    "pl.ylabel('Error')\n",
    "pl.show()"
   ]
  },
  {
   "cell_type": "markdown",
   "metadata": {},
   "source": [
    "\n",
    "def fit_predict_model(city_data):\n",
    "    \"\"\"Find and tune the optimal model. Make a prediction on housing data.\"\"\" \n",
    "Tune and predict Model\n",
    "    fit_predict_model(city_data) "
   ]
  },
  {
   "cell_type": "code",
   "execution_count": 11,
   "metadata": {
    "collapsed": true
   },
   "outputs": [],
   "source": [
    "# Get the features and labels from the Boston housing data\n",
    "X, y = city_data.data, city_data.target\n",
    "\n",
    "# Setup a Decision Tree Regressor\n",
    "regressor = DecisionTreeRegressor()\n",
    "\n",
    "parameters = {'max_depth':(1,2,3,4,5,6,7,8,9,10)}\n",
    "\n",
    "###################################\n",
    "### Step 4. YOUR CODE GOES HERE ###\n",
    "###################################\n",
    "\n",
    "# 1. Find the best performance metric\n",
    "# should be the same as your performance_metric procedure\n",
    "# http://scikit-learn.org/stable/modules/generated/sklearn.metrics.make_scorer.html\n",
    "\n",
    "# 2. Use gridearch to fine tune the Decision Tree Regressor and find the best model\n",
    "# http://scikit-learn.org/stable/modules/generated/sklearn.grid_search.GridSearchCV.html#sklearn.grid_search.GridSearchCV\n",
    "\n",
    "# Fit the learner to the training data\n",
    "print \"Final Model: \"\n",
    "print reg.fit(X, y)\n",
    "\n",
    "# Use the model to predict the output of a particular sample\n",
    "x = [11.95, 0.00, 18.100, 0, 0.6590, 5.6090, 90.00, 1.385, 24, 680.0, 20.20, 332.09, 12.13]\n",
    "y = reg.predict(x)\n",
    "print \"House: \" + str(x)\n",
    "print \"Prediction: \" + str(y)\n",
    "\n"
   ]
  },
  {
   "cell_type": "code",
   "execution_count": null,
   "metadata": {
    "collapsed": true
   },
   "outputs": [],
   "source": []
  }
 ],
 "metadata": {
  "kernelspec": {
   "display_name": "Python 2",
   "language": "python",
   "name": "python2"
  },
  "language_info": {
   "codemirror_mode": {
    "name": "ipython",
    "version": 2
   },
   "file_extension": ".py",
   "mimetype": "text/x-python",
   "name": "python",
   "nbconvert_exporter": "python",
   "pygments_lexer": "ipython2",
   "version": "2.7.11"
  }
 },
 "nbformat": 4,
 "nbformat_minor": 0
}
